{
  "nbformat": 4,
  "nbformat_minor": 0,
  "metadata": {
    "colab": {
      "provenance": []
    },
    "kernelspec": {
      "name": "python3",
      "display_name": "Python 3"
    },
    "language_info": {
      "name": "python"
    }
  },
  "cells": [
    {
      "cell_type": "code",
      "execution_count": null,
      "metadata": {
        "colab": {
          "base_uri": "https://localhost:8080/"
        },
        "id": "H3TkLwXwU57r",
        "outputId": "0c246a0d-4312-48b1-f74b-187ac119ac00"
      },
      "outputs": [
        {
          "output_type": "stream",
          "name": "stdout",
          "text": [
            "Requirement already satisfied: torch in /usr/local/lib/python3.11/dist-packages (2.6.0+cu124)\n",
            "Requirement already satisfied: torchvision in /usr/local/lib/python3.11/dist-packages (0.21.0+cu124)\n",
            "Requirement already satisfied: tqdm in /usr/local/lib/python3.11/dist-packages (4.67.1)\n",
            "Requirement already satisfied: pillow in /usr/local/lib/python3.11/dist-packages (11.1.0)\n",
            "Requirement already satisfied: matplotlib in /usr/local/lib/python3.11/dist-packages (3.10.0)\n",
            "Requirement already satisfied: opencv-python in /usr/local/lib/python3.11/dist-packages (4.11.0.86)\n",
            "Requirement already satisfied: tensorflow in /usr/local/lib/python3.11/dist-packages (2.18.0)\n",
            "Requirement already satisfied: tensorboard in /usr/local/lib/python3.11/dist-packages (2.18.0)\n",
            "Requirement already satisfied: filelock in /usr/local/lib/python3.11/dist-packages (from torch) (3.18.0)\n",
            "Requirement already satisfied: typing-extensions>=4.10.0 in /usr/local/lib/python3.11/dist-packages (from torch) (4.13.2)\n",
            "Requirement already satisfied: networkx in /usr/local/lib/python3.11/dist-packages (from torch) (3.4.2)\n",
            "Requirement already satisfied: jinja2 in /usr/local/lib/python3.11/dist-packages (from torch) (3.1.6)\n",
            "Requirement already satisfied: fsspec in /usr/local/lib/python3.11/dist-packages (from torch) (2025.3.2)\n",
            "Requirement already satisfied: nvidia-cuda-nvrtc-cu12==12.4.127 in /usr/local/lib/python3.11/dist-packages (from torch) (12.4.127)\n",
            "Requirement already satisfied: nvidia-cuda-runtime-cu12==12.4.127 in /usr/local/lib/python3.11/dist-packages (from torch) (12.4.127)\n",
            "Requirement already satisfied: nvidia-cuda-cupti-cu12==12.4.127 in /usr/local/lib/python3.11/dist-packages (from torch) (12.4.127)\n",
            "Requirement already satisfied: nvidia-cudnn-cu12==9.1.0.70 in /usr/local/lib/python3.11/dist-packages (from torch) (9.1.0.70)\n",
            "Requirement already satisfied: nvidia-cublas-cu12==12.4.5.8 in /usr/local/lib/python3.11/dist-packages (from torch) (12.4.5.8)\n",
            "Requirement already satisfied: nvidia-cufft-cu12==11.2.1.3 in /usr/local/lib/python3.11/dist-packages (from torch) (11.2.1.3)\n",
            "Requirement already satisfied: nvidia-curand-cu12==10.3.5.147 in /usr/local/lib/python3.11/dist-packages (from torch) (10.3.5.147)\n",
            "Requirement already satisfied: nvidia-cusolver-cu12==11.6.1.9 in /usr/local/lib/python3.11/dist-packages (from torch) (11.6.1.9)\n",
            "Requirement already satisfied: nvidia-cusparse-cu12==12.3.1.170 in /usr/local/lib/python3.11/dist-packages (from torch) (12.3.1.170)\n",
            "Requirement already satisfied: nvidia-cusparselt-cu12==0.6.2 in /usr/local/lib/python3.11/dist-packages (from torch) (0.6.2)\n",
            "Requirement already satisfied: nvidia-nccl-cu12==2.21.5 in /usr/local/lib/python3.11/dist-packages (from torch) (2.21.5)\n",
            "Requirement already satisfied: nvidia-nvtx-cu12==12.4.127 in /usr/local/lib/python3.11/dist-packages (from torch) (12.4.127)\n",
            "Requirement already satisfied: nvidia-nvjitlink-cu12==12.4.127 in /usr/local/lib/python3.11/dist-packages (from torch) (12.4.127)\n",
            "Requirement already satisfied: triton==3.2.0 in /usr/local/lib/python3.11/dist-packages (from torch) (3.2.0)\n",
            "Requirement already satisfied: sympy==1.13.1 in /usr/local/lib/python3.11/dist-packages (from torch) (1.13.1)\n",
            "Requirement already satisfied: mpmath<1.4,>=1.1.0 in /usr/local/lib/python3.11/dist-packages (from sympy==1.13.1->torch) (1.3.0)\n",
            "Requirement already satisfied: numpy in /usr/local/lib/python3.11/dist-packages (from torchvision) (2.0.2)\n",
            "Requirement already satisfied: contourpy>=1.0.1 in /usr/local/lib/python3.11/dist-packages (from matplotlib) (1.3.2)\n",
            "Requirement already satisfied: cycler>=0.10 in /usr/local/lib/python3.11/dist-packages (from matplotlib) (0.12.1)\n",
            "Requirement already satisfied: fonttools>=4.22.0 in /usr/local/lib/python3.11/dist-packages (from matplotlib) (4.57.0)\n",
            "Requirement already satisfied: kiwisolver>=1.3.1 in /usr/local/lib/python3.11/dist-packages (from matplotlib) (1.4.8)\n",
            "Requirement already satisfied: packaging>=20.0 in /usr/local/lib/python3.11/dist-packages (from matplotlib) (24.2)\n",
            "Requirement already satisfied: pyparsing>=2.3.1 in /usr/local/lib/python3.11/dist-packages (from matplotlib) (3.2.3)\n",
            "Requirement already satisfied: python-dateutil>=2.7 in /usr/local/lib/python3.11/dist-packages (from matplotlib) (2.8.2)\n",
            "Requirement already satisfied: absl-py>=1.0.0 in /usr/local/lib/python3.11/dist-packages (from tensorflow) (1.4.0)\n",
            "Requirement already satisfied: astunparse>=1.6.0 in /usr/local/lib/python3.11/dist-packages (from tensorflow) (1.6.3)\n",
            "Requirement already satisfied: flatbuffers>=24.3.25 in /usr/local/lib/python3.11/dist-packages (from tensorflow) (25.2.10)\n",
            "Requirement already satisfied: gast!=0.5.0,!=0.5.1,!=0.5.2,>=0.2.1 in /usr/local/lib/python3.11/dist-packages (from tensorflow) (0.6.0)\n",
            "Requirement already satisfied: google-pasta>=0.1.1 in /usr/local/lib/python3.11/dist-packages (from tensorflow) (0.2.0)\n",
            "Requirement already satisfied: libclang>=13.0.0 in /usr/local/lib/python3.11/dist-packages (from tensorflow) (18.1.1)\n",
            "Requirement already satisfied: opt-einsum>=2.3.2 in /usr/local/lib/python3.11/dist-packages (from tensorflow) (3.4.0)\n",
            "Requirement already satisfied: protobuf!=4.21.0,!=4.21.1,!=4.21.2,!=4.21.3,!=4.21.4,!=4.21.5,<6.0.0dev,>=3.20.3 in /usr/local/lib/python3.11/dist-packages (from tensorflow) (5.29.4)\n",
            "Requirement already satisfied: requests<3,>=2.21.0 in /usr/local/lib/python3.11/dist-packages (from tensorflow) (2.32.3)\n",
            "Requirement already satisfied: setuptools in /usr/local/lib/python3.11/dist-packages (from tensorflow) (75.2.0)\n",
            "Requirement already satisfied: six>=1.12.0 in /usr/local/lib/python3.11/dist-packages (from tensorflow) (1.17.0)\n",
            "Requirement already satisfied: termcolor>=1.1.0 in /usr/local/lib/python3.11/dist-packages (from tensorflow) (3.0.1)\n",
            "Requirement already satisfied: wrapt>=1.11.0 in /usr/local/lib/python3.11/dist-packages (from tensorflow) (1.17.2)\n",
            "Requirement already satisfied: grpcio<2.0,>=1.24.3 in /usr/local/lib/python3.11/dist-packages (from tensorflow) (1.71.0)\n",
            "Requirement already satisfied: keras>=3.5.0 in /usr/local/lib/python3.11/dist-packages (from tensorflow) (3.8.0)\n",
            "Requirement already satisfied: h5py>=3.11.0 in /usr/local/lib/python3.11/dist-packages (from tensorflow) (3.13.0)\n",
            "Requirement already satisfied: ml-dtypes<0.5.0,>=0.4.0 in /usr/local/lib/python3.11/dist-packages (from tensorflow) (0.4.1)\n",
            "Requirement already satisfied: tensorflow-io-gcs-filesystem>=0.23.1 in /usr/local/lib/python3.11/dist-packages (from tensorflow) (0.37.1)\n",
            "Requirement already satisfied: markdown>=2.6.8 in /usr/local/lib/python3.11/dist-packages (from tensorboard) (3.8)\n",
            "Requirement already satisfied: tensorboard-data-server<0.8.0,>=0.7.0 in /usr/local/lib/python3.11/dist-packages (from tensorboard) (0.7.2)\n",
            "Requirement already satisfied: werkzeug>=1.0.1 in /usr/local/lib/python3.11/dist-packages (from tensorboard) (3.1.3)\n",
            "Requirement already satisfied: wheel<1.0,>=0.23.0 in /usr/local/lib/python3.11/dist-packages (from astunparse>=1.6.0->tensorflow) (0.45.1)\n",
            "Requirement already satisfied: rich in /usr/local/lib/python3.11/dist-packages (from keras>=3.5.0->tensorflow) (13.9.4)\n",
            "Requirement already satisfied: namex in /usr/local/lib/python3.11/dist-packages (from keras>=3.5.0->tensorflow) (0.0.9)\n",
            "Requirement already satisfied: optree in /usr/local/lib/python3.11/dist-packages (from keras>=3.5.0->tensorflow) (0.15.0)\n",
            "Requirement already satisfied: charset-normalizer<4,>=2 in /usr/local/lib/python3.11/dist-packages (from requests<3,>=2.21.0->tensorflow) (3.4.1)\n",
            "Requirement already satisfied: idna<4,>=2.5 in /usr/local/lib/python3.11/dist-packages (from requests<3,>=2.21.0->tensorflow) (3.10)\n",
            "Requirement already satisfied: urllib3<3,>=1.21.1 in /usr/local/lib/python3.11/dist-packages (from requests<3,>=2.21.0->tensorflow) (2.3.0)\n",
            "Requirement already satisfied: certifi>=2017.4.17 in /usr/local/lib/python3.11/dist-packages (from requests<3,>=2.21.0->tensorflow) (2025.1.31)\n",
            "Requirement already satisfied: MarkupSafe>=2.1.1 in /usr/local/lib/python3.11/dist-packages (from werkzeug>=1.0.1->tensorboard) (3.0.2)\n",
            "Requirement already satisfied: markdown-it-py>=2.2.0 in /usr/local/lib/python3.11/dist-packages (from rich->keras>=3.5.0->tensorflow) (3.0.0)\n",
            "Requirement already satisfied: pygments<3.0.0,>=2.13.0 in /usr/local/lib/python3.11/dist-packages (from rich->keras>=3.5.0->tensorflow) (2.18.0)\n",
            "Requirement already satisfied: mdurl~=0.1 in /usr/local/lib/python3.11/dist-packages (from markdown-it-py>=2.2.0->rich->keras>=3.5.0->tensorflow) (0.1.2)\n",
            "fatal: destination path 'mcunet' already exists and is not an empty directory.\n",
            "/content/mcunet/mcunet\n",
            "\u001b[31mERROR: Could not open requirements file: [Errno 2] No such file or directory: 'requirements.txt'\u001b[0m\u001b[31m\n",
            "\u001b[0mESP32 WROVER Constraints: {'flash_size_kb': 4096, 'sram_size_kb': 520, 'psram_size_kb': 8192, 'frequency_mhz': 240, 'max_model_size_kb': 3072, 'max_activation_size_kb': 400}\n",
            "Using device: cpu\n",
            "Preparing cifar10 dataset...\n"
          ]
        },
        {
          "output_type": "stream",
          "name": "stderr",
          "text": [
            "100%|██████████| 170M/170M [00:11<00:00, 15.3MB/s]\n"
          ]
        },
        {
          "output_type": "stream",
          "name": "stdout",
          "text": [
            "Dataset prepared with 50000 training samples and 10000 test samples\n",
            "Number of classes: 10\n",
            "Starting TinyNAS search...\n",
            "Using device: cpu\n",
            "\n",
            "Evaluating model with width=0.35, input_size=32\n",
            "Estimated model size: 1613.44KB, activation size: 200.00KB\n",
            "Training model on cpu...\n"
          ]
        },
        {
          "output_type": "stream",
          "name": "stderr",
          "text": [
            "Epoch 1/5: 100%|██████████| 782/782 [08:13<00:00,  1.59it/s, loss=1.81, acc=33.2]\n"
          ]
        },
        {
          "output_type": "stream",
          "name": "stdout",
          "text": [
            "Epoch 1/5 - Train Loss: 1.8079, Train Acc: 33.17%, Test Loss: 1.6526, Test Acc: 41.39%\n",
            "New best accuracy: 41.39%. Saving model...\n"
          ]
        },
        {
          "output_type": "stream",
          "name": "stderr",
          "text": [
            "Epoch 2/5: 100%|██████████| 782/782 [08:18<00:00,  1.57it/s, loss=1.42, acc=48.2]\n"
          ]
        },
        {
          "output_type": "stream",
          "name": "stdout",
          "text": [
            "Epoch 2/5 - Train Loss: 1.4216, Train Acc: 48.20%, Test Loss: 1.2621, Test Acc: 54.91%\n",
            "New best accuracy: 54.91%. Saving model...\n"
          ]
        },
        {
          "output_type": "stream",
          "name": "stderr",
          "text": [
            "Epoch 3/5: 100%|██████████| 782/782 [08:31<00:00,  1.53it/s, loss=1.21, acc=56.7]\n"
          ]
        },
        {
          "output_type": "stream",
          "name": "stdout",
          "text": [
            "Epoch 3/5 - Train Loss: 1.2105, Train Acc: 56.69%, Test Loss: 1.1364, Test Acc: 59.47%\n",
            "New best accuracy: 59.47%. Saving model...\n"
          ]
        },
        {
          "output_type": "stream",
          "name": "stderr",
          "text": [
            "Epoch 4/5: 100%|██████████| 782/782 [08:27<00:00,  1.54it/s, loss=1.06, acc=62.2]\n"
          ]
        },
        {
          "output_type": "stream",
          "name": "stdout",
          "text": [
            "Epoch 4/5 - Train Loss: 1.0623, Train Acc: 62.16%, Test Loss: 1.0260, Test Acc: 63.49%\n",
            "New best accuracy: 63.49%. Saving model...\n"
          ]
        },
        {
          "output_type": "stream",
          "name": "stderr",
          "text": [
            "Epoch 5/5: 100%|██████████| 782/782 [08:23<00:00,  1.55it/s, loss=0.979, acc=65.3]\n"
          ]
        },
        {
          "output_type": "stream",
          "name": "stdout",
          "text": [
            "Epoch 5/5 - Train Loss: 0.9785, Train Acc: 65.34%, Test Loss: 0.9554, Test Acc: 66.08%\n",
            "New best accuracy: 66.08%. Saving model...\n",
            "Training complete. Best accuracy: 66.08%\n",
            "\n",
            "Evaluating model with width=0.35, input_size=64\n",
            "Estimated model size: 1613.44KB, activation size: 200.00KB\n",
            "Training model on cpu...\n"
          ]
        },
        {
          "output_type": "stream",
          "name": "stderr",
          "text": [
            "Epoch 1/5: 100%|██████████| 782/782 [08:51<00:00,  1.47it/s, loss=1.78, acc=35]\n"
          ]
        },
        {
          "output_type": "stream",
          "name": "stdout",
          "text": [
            "Epoch 1/5 - Train Loss: 1.7783, Train Acc: 34.96%, Test Loss: 1.4508, Test Acc: 46.85%\n",
            "New best accuracy: 46.85%. Saving model...\n"
          ]
        },
        {
          "output_type": "stream",
          "name": "stderr",
          "text": [
            "Epoch 2/5: 100%|██████████| 782/782 [08:47<00:00,  1.48it/s, loss=1.4, acc=49.4]\n"
          ]
        },
        {
          "output_type": "stream",
          "name": "stdout",
          "text": [
            "Epoch 2/5 - Train Loss: 1.3966, Train Acc: 49.41%, Test Loss: 1.3045, Test Acc: 52.55%\n",
            "New best accuracy: 52.55%. Saving model...\n"
          ]
        },
        {
          "output_type": "stream",
          "name": "stderr",
          "text": [
            "Epoch 3/5: 100%|██████████| 782/782 [08:32<00:00,  1.53it/s, loss=1.2, acc=56.8]\n"
          ]
        },
        {
          "output_type": "stream",
          "name": "stdout",
          "text": [
            "Epoch 3/5 - Train Loss: 1.2042, Train Acc: 56.83%, Test Loss: 1.2105, Test Acc: 57.13%\n",
            "New best accuracy: 57.13%. Saving model...\n"
          ]
        },
        {
          "output_type": "stream",
          "name": "stderr",
          "text": [
            "Epoch 4/5: 100%|██████████| 782/782 [08:34<00:00,  1.52it/s, loss=1.06, acc=62.2]\n"
          ]
        },
        {
          "output_type": "stream",
          "name": "stdout",
          "text": [
            "Epoch 4/5 - Train Loss: 1.0612, Train Acc: 62.21%, Test Loss: 0.9999, Test Acc: 64.48%\n",
            "New best accuracy: 64.48%. Saving model...\n"
          ]
        },
        {
          "output_type": "stream",
          "name": "stderr",
          "text": [
            "Epoch 5/5: 100%|██████████| 782/782 [08:38<00:00,  1.51it/s, loss=0.967, acc=65.5]\n"
          ]
        },
        {
          "output_type": "stream",
          "name": "stdout",
          "text": [
            "Epoch 5/5 - Train Loss: 0.9672, Train Acc: 65.50%, Test Loss: 0.9539, Test Acc: 65.75%\n",
            "New best accuracy: 65.75%. Saving model...\n",
            "Training complete. Best accuracy: 65.75%\n",
            "\n",
            "Evaluating model with width=0.35, input_size=96\n",
            "Estimated model size: 1613.44KB, activation size: 200.00KB\n",
            "Training model on cpu...\n"
          ]
        },
        {
          "output_type": "stream",
          "name": "stderr",
          "text": [
            "Epoch 1/5: 100%|██████████| 782/782 [08:34<00:00,  1.52it/s, loss=1.8, acc=33.4]\n"
          ]
        },
        {
          "output_type": "stream",
          "name": "stdout",
          "text": [
            "Epoch 1/5 - Train Loss: 1.8035, Train Acc: 33.38%, Test Loss: 1.5543, Test Acc: 44.23%\n",
            "New best accuracy: 44.23%. Saving model...\n"
          ]
        },
        {
          "output_type": "stream",
          "name": "stderr",
          "text": [
            "Epoch 2/5: 100%|██████████| 782/782 [08:37<00:00,  1.51it/s, loss=1.43, acc=47.8]\n"
          ]
        },
        {
          "output_type": "stream",
          "name": "stdout",
          "text": [
            "Epoch 2/5 - Train Loss: 1.4272, Train Acc: 47.84%, Test Loss: 1.3014, Test Acc: 52.96%\n",
            "New best accuracy: 52.96%. Saving model...\n"
          ]
        },
        {
          "output_type": "stream",
          "name": "stderr",
          "text": [
            "Epoch 3/5: 100%|██████████| 782/782 [08:39<00:00,  1.50it/s, loss=1.22, acc=55.9]\n"
          ]
        },
        {
          "output_type": "stream",
          "name": "stdout",
          "text": [
            "Epoch 3/5 - Train Loss: 1.2241, Train Acc: 55.88%, Test Loss: 1.1400, Test Acc: 58.86%\n",
            "New best accuracy: 58.86%. Saving model...\n"
          ]
        },
        {
          "output_type": "stream",
          "name": "stderr",
          "text": [
            "Epoch 4/5: 100%|██████████| 782/782 [08:42<00:00,  1.50it/s, loss=1.09, acc=61.1]\n"
          ]
        },
        {
          "output_type": "stream",
          "name": "stdout",
          "text": [
            "Epoch 4/5 - Train Loss: 1.0890, Train Acc: 61.15%, Test Loss: 1.0532, Test Acc: 62.89%\n",
            "New best accuracy: 62.89%. Saving model...\n"
          ]
        },
        {
          "output_type": "stream",
          "name": "stderr",
          "text": [
            "Epoch 5/5: 100%|██████████| 782/782 [08:40<00:00,  1.50it/s, loss=0.999, acc=64.3]\n"
          ]
        },
        {
          "output_type": "stream",
          "name": "stdout",
          "text": [
            "Epoch 5/5 - Train Loss: 0.9988, Train Acc: 64.32%, Test Loss: 0.9841, Test Acc: 64.60%\n",
            "New best accuracy: 64.60%. Saving model...\n",
            "Training complete. Best accuracy: 64.60%\n",
            "\n",
            "Evaluating model with width=0.35, input_size=128\n",
            "Estimated model size: 1613.44KB, activation size: 200.00KB\n",
            "Training model on cpu...\n"
          ]
        },
        {
          "output_type": "stream",
          "name": "stderr",
          "text": [
            "Epoch 1/5: 100%|██████████| 782/782 [08:44<00:00,  1.49it/s, loss=1.79, acc=33.9]\n"
          ]
        },
        {
          "output_type": "stream",
          "name": "stdout",
          "text": [
            "Epoch 1/5 - Train Loss: 1.7899, Train Acc: 33.94%, Test Loss: 1.5213, Test Acc: 43.78%\n",
            "New best accuracy: 43.78%. Saving model...\n"
          ]
        },
        {
          "output_type": "stream",
          "name": "stderr",
          "text": [
            "Epoch 2/5: 100%|██████████| 782/782 [08:42<00:00,  1.50it/s, loss=1.41, acc=48.8]\n"
          ]
        },
        {
          "output_type": "stream",
          "name": "stdout",
          "text": [
            "Epoch 2/5 - Train Loss: 1.4121, Train Acc: 48.78%, Test Loss: 1.2359, Test Acc: 55.18%\n",
            "New best accuracy: 55.18%. Saving model...\n"
          ]
        },
        {
          "output_type": "stream",
          "name": "stderr",
          "text": [
            "Epoch 3/5: 100%|██████████| 782/782 [08:27<00:00,  1.54it/s, loss=1.19, acc=57.6]\n"
          ]
        },
        {
          "output_type": "stream",
          "name": "stdout",
          "text": [
            "Epoch 3/5 - Train Loss: 1.1880, Train Acc: 57.62%, Test Loss: 1.0903, Test Acc: 60.92%\n",
            "New best accuracy: 60.92%. Saving model...\n"
          ]
        },
        {
          "output_type": "stream",
          "name": "stderr",
          "text": [
            "Epoch 4/5: 100%|██████████| 782/782 [08:16<00:00,  1.57it/s, loss=1.04, acc=62.9]\n"
          ]
        },
        {
          "output_type": "stream",
          "name": "stdout",
          "text": [
            "Epoch 4/5 - Train Loss: 1.0420, Train Acc: 62.89%, Test Loss: 0.9867, Test Acc: 65.05%\n",
            "New best accuracy: 65.05%. Saving model...\n"
          ]
        },
        {
          "output_type": "stream",
          "name": "stderr",
          "text": [
            "Epoch 5/5: 100%|██████████| 782/782 [08:15<00:00,  1.58it/s, loss=0.945, acc=66.3]\n"
          ]
        },
        {
          "output_type": "stream",
          "name": "stdout",
          "text": [
            "Epoch 5/5 - Train Loss: 0.9451, Train Acc: 66.30%, Test Loss: 0.9216, Test Acc: 67.34%\n",
            "New best accuracy: 67.34%. Saving model...\n",
            "Training complete. Best accuracy: 67.34%\n",
            "\n",
            "Evaluating model with width=0.5, input_size=32\n",
            "Estimated model size: 2795.70KB, activation size: 200.00KB\n",
            "Training model on cpu...\n"
          ]
        },
        {
          "output_type": "stream",
          "name": "stderr",
          "text": [
            "Epoch 1/5: 100%|██████████| 782/782 [12:05<00:00,  1.08it/s, loss=1.71, acc=36.8]\n"
          ]
        },
        {
          "output_type": "stream",
          "name": "stdout",
          "text": [
            "Epoch 1/5 - Train Loss: 1.7087, Train Acc: 36.80%, Test Loss: 1.3722, Test Acc: 50.26%\n",
            "New best accuracy: 50.26%. Saving model...\n"
          ]
        },
        {
          "output_type": "stream",
          "name": "stderr",
          "text": [
            "Epoch 2/5: 100%|██████████| 782/782 [12:03<00:00,  1.08it/s, loss=1.32, acc=52.7]\n"
          ]
        },
        {
          "output_type": "stream",
          "name": "stdout",
          "text": [
            "Epoch 2/5 - Train Loss: 1.3169, Train Acc: 52.67%, Test Loss: 1.2154, Test Acc: 56.48%\n",
            "New best accuracy: 56.48%. Saving model...\n"
          ]
        },
        {
          "output_type": "stream",
          "name": "stderr",
          "text": [
            "Epoch 3/5: 100%|██████████| 782/782 [11:48<00:00,  1.10it/s, loss=1.08, acc=61.4]\n"
          ]
        },
        {
          "output_type": "stream",
          "name": "stdout",
          "text": [
            "Epoch 3/5 - Train Loss: 1.0841, Train Acc: 61.38%, Test Loss: 0.9826, Test Acc: 64.19%\n",
            "New best accuracy: 64.19%. Saving model...\n"
          ]
        },
        {
          "output_type": "stream",
          "name": "stderr",
          "text": [
            "Epoch 4/5: 100%|██████████| 782/782 [11:55<00:00,  1.09it/s, loss=0.929, acc=67]\n"
          ]
        },
        {
          "output_type": "stream",
          "name": "stdout",
          "text": [
            "Epoch 4/5 - Train Loss: 0.9291, Train Acc: 67.03%, Test Loss: 0.8775, Test Acc: 69.07%\n",
            "New best accuracy: 69.07%. Saving model...\n"
          ]
        },
        {
          "output_type": "stream",
          "name": "stderr",
          "text": [
            "Epoch 5/5: 100%|██████████| 782/782 [11:52<00:00,  1.10it/s, loss=0.827, acc=70.7]\n"
          ]
        },
        {
          "output_type": "stream",
          "name": "stdout",
          "text": [
            "Epoch 5/5 - Train Loss: 0.8269, Train Acc: 70.74%, Test Loss: 0.8302, Test Acc: 70.87%\n",
            "New best accuracy: 70.87%. Saving model...\n",
            "Training complete. Best accuracy: 70.87%\n",
            "\n",
            "Evaluating model with width=0.5, input_size=64\n",
            "Estimated model size: 2795.70KB, activation size: 200.00KB\n",
            "Training model on cpu...\n"
          ]
        },
        {
          "output_type": "stream",
          "name": "stderr",
          "text": [
            "Epoch 1/5: 100%|██████████| 782/782 [11:52<00:00,  1.10it/s, loss=1.72, acc=36.6]\n"
          ]
        },
        {
          "output_type": "stream",
          "name": "stdout",
          "text": [
            "Epoch 1/5 - Train Loss: 1.7238, Train Acc: 36.65%, Test Loss: 1.4890, Test Acc: 46.35%\n",
            "New best accuracy: 46.35%. Saving model...\n"
          ]
        },
        {
          "output_type": "stream",
          "name": "stderr",
          "text": [
            "Epoch 2/5: 100%|██████████| 782/782 [12:01<00:00,  1.08it/s, loss=1.28, acc=54.3]\n"
          ]
        },
        {
          "output_type": "stream",
          "name": "stdout",
          "text": [
            "Epoch 2/5 - Train Loss: 1.2763, Train Acc: 54.30%, Test Loss: 1.0993, Test Acc: 60.59%\n",
            "New best accuracy: 60.59%. Saving model...\n"
          ]
        },
        {
          "output_type": "stream",
          "name": "stderr",
          "text": [
            "Epoch 3/5: 100%|██████████| 782/782 [11:54<00:00,  1.09it/s, loss=1.05, acc=62.4]\n"
          ]
        },
        {
          "output_type": "stream",
          "name": "stdout",
          "text": [
            "Epoch 3/5 - Train Loss: 1.0526, Train Acc: 62.43%, Test Loss: 1.0282, Test Acc: 63.91%\n",
            "New best accuracy: 63.91%. Saving model...\n"
          ]
        },
        {
          "output_type": "stream",
          "name": "stderr",
          "text": [
            "Epoch 4/5: 100%|██████████| 782/782 [11:59<00:00,  1.09it/s, loss=0.897, acc=68.2]\n"
          ]
        },
        {
          "output_type": "stream",
          "name": "stdout",
          "text": [
            "Epoch 4/5 - Train Loss: 0.8970, Train Acc: 68.16%, Test Loss: 0.8441, Test Acc: 70.27%\n",
            "New best accuracy: 70.27%. Saving model...\n"
          ]
        },
        {
          "output_type": "stream",
          "name": "stderr",
          "text": [
            "Epoch 5/5: 100%|██████████| 782/782 [12:01<00:00,  1.08it/s, loss=0.801, acc=71.8]\n"
          ]
        },
        {
          "output_type": "stream",
          "name": "stdout",
          "text": [
            "Epoch 5/5 - Train Loss: 0.8009, Train Acc: 71.78%, Test Loss: 0.7968, Test Acc: 72.09%\n",
            "New best accuracy: 72.09%. Saving model...\n",
            "Training complete. Best accuracy: 72.09%\n",
            "\n",
            "Evaluating model with width=0.5, input_size=96\n",
            "Estimated model size: 2795.70KB, activation size: 200.00KB\n",
            "Training model on cpu...\n"
          ]
        },
        {
          "output_type": "stream",
          "name": "stderr",
          "text": [
            "Epoch 1/5: 100%|██████████| 782/782 [11:52<00:00,  1.10it/s, loss=1.72, acc=36.2]\n"
          ]
        },
        {
          "output_type": "stream",
          "name": "stdout",
          "text": [
            "Epoch 1/5 - Train Loss: 1.7234, Train Acc: 36.25%, Test Loss: 1.3613, Test Acc: 50.35%\n",
            "New best accuracy: 50.35%. Saving model...\n"
          ]
        },
        {
          "output_type": "stream",
          "name": "stderr",
          "text": [
            "Epoch 2/5: 100%|██████████| 782/782 [11:56<00:00,  1.09it/s, loss=1.31, acc=52.8]\n"
          ]
        },
        {
          "output_type": "stream",
          "name": "stdout",
          "text": [
            "Epoch 2/5 - Train Loss: 1.3059, Train Acc: 52.82%, Test Loss: 1.1611, Test Acc: 58.08%\n",
            "New best accuracy: 58.08%. Saving model...\n"
          ]
        },
        {
          "output_type": "stream",
          "name": "stderr",
          "text": [
            "Epoch 3/5: 100%|██████████| 782/782 [11:52<00:00,  1.10it/s, loss=1.1, acc=61.1]\n"
          ]
        },
        {
          "output_type": "stream",
          "name": "stdout",
          "text": [
            "Epoch 3/5 - Train Loss: 1.0951, Train Acc: 61.05%, Test Loss: 1.0217, Test Acc: 63.11%\n",
            "New best accuracy: 63.11%. Saving model...\n"
          ]
        },
        {
          "output_type": "stream",
          "name": "stderr",
          "text": [
            "Epoch 4/5: 100%|██████████| 782/782 [11:51<00:00,  1.10it/s, loss=0.934, acc=66.7]\n"
          ]
        },
        {
          "output_type": "stream",
          "name": "stdout",
          "text": [
            "Epoch 4/5 - Train Loss: 0.9336, Train Acc: 66.74%, Test Loss: 0.8813, Test Acc: 68.72%\n",
            "New best accuracy: 68.72%. Saving model...\n"
          ]
        },
        {
          "output_type": "stream",
          "name": "stderr",
          "text": [
            "Epoch 5/5: 100%|██████████| 782/782 [11:50<00:00,  1.10it/s, loss=0.827, acc=70.7]\n"
          ]
        },
        {
          "output_type": "stream",
          "name": "stdout",
          "text": [
            "Epoch 5/5 - Train Loss: 0.8266, Train Acc: 70.69%, Test Loss: 0.8292, Test Acc: 70.75%\n",
            "New best accuracy: 70.75%. Saving model...\n",
            "Training complete. Best accuracy: 70.75%\n",
            "\n",
            "Evaluating model with width=0.5, input_size=128\n",
            "Estimated model size: 2795.70KB, activation size: 200.00KB\n",
            "Training model on cpu...\n"
          ]
        },
        {
          "output_type": "stream",
          "name": "stderr",
          "text": [
            "Epoch 1/5: 100%|██████████| 782/782 [11:52<00:00,  1.10it/s, loss=1.69, acc=37.7]\n"
          ]
        },
        {
          "output_type": "stream",
          "name": "stdout",
          "text": [
            "Epoch 1/5 - Train Loss: 1.6903, Train Acc: 37.69%, Test Loss: 1.3689, Test Acc: 50.39%\n",
            "New best accuracy: 50.39%. Saving model...\n"
          ]
        },
        {
          "output_type": "stream",
          "name": "stderr",
          "text": [
            "Epoch 2/5: 100%|██████████| 782/782 [11:57<00:00,  1.09it/s, loss=1.28, acc=54.3]\n"
          ]
        },
        {
          "output_type": "stream",
          "name": "stdout",
          "text": [
            "Epoch 2/5 - Train Loss: 1.2764, Train Acc: 54.32%, Test Loss: 1.1115, Test Acc: 60.23%\n",
            "New best accuracy: 60.23%. Saving model...\n"
          ]
        },
        {
          "output_type": "stream",
          "name": "stderr",
          "text": [
            "Epoch 3/5: 100%|██████████| 782/782 [11:52<00:00,  1.10it/s, loss=1.06, acc=62.2]\n"
          ]
        },
        {
          "output_type": "stream",
          "name": "stdout",
          "text": [
            "Epoch 3/5 - Train Loss: 1.0623, Train Acc: 62.21%, Test Loss: 0.9972, Test Acc: 65.13%\n",
            "New best accuracy: 65.13%. Saving model...\n"
          ]
        },
        {
          "output_type": "stream",
          "name": "stderr",
          "text": [
            "Epoch 4/5: 100%|██████████| 782/782 [11:55<00:00,  1.09it/s, loss=0.918, acc=67.4]\n"
          ]
        },
        {
          "output_type": "stream",
          "name": "stdout",
          "text": [
            "Epoch 4/5 - Train Loss: 0.9177, Train Acc: 67.42%, Test Loss: 0.8692, Test Acc: 69.33%\n",
            "New best accuracy: 69.33%. Saving model...\n"
          ]
        },
        {
          "output_type": "stream",
          "name": "stderr",
          "text": [
            "Epoch 5/5: 100%|██████████| 782/782 [11:51<00:00,  1.10it/s, loss=0.822, acc=71]\n"
          ]
        },
        {
          "output_type": "stream",
          "name": "stdout",
          "text": [
            "Epoch 5/5 - Train Loss: 0.8221, Train Acc: 70.98%, Test Loss: 0.8103, Test Acc: 71.43%\n",
            "New best accuracy: 71.43%. Saving model...\n",
            "Training complete. Best accuracy: 71.43%\n",
            "Skipping model with width=0.75, input_size=32 (model_size=5414.48KB, activation_size=200.00KB) - exceeds constraints\n",
            "Skipping model with width=0.75, input_size=64 (model_size=5414.48KB, activation_size=200.00KB) - exceeds constraints\n",
            "Skipping model with width=0.75, input_size=96 (model_size=5414.48KB, activation_size=200.00KB) - exceeds constraints\n",
            "Skipping model with width=0.75, input_size=128 (model_size=5414.48KB, activation_size=200.00KB) - exceeds constraints\n",
            "Skipping model with width=1.0, input_size=32 (model_size=8870.70KB, activation_size=200.00KB) - exceeds constraints\n",
            "Skipping model with width=1.0, input_size=64 (model_size=8870.70KB, activation_size=200.00KB) - exceeds constraints\n",
            "Skipping model with width=1.0, input_size=96 (model_size=8870.70KB, activation_size=200.00KB) - exceeds constraints\n",
            "Skipping model with width=1.0, input_size=128 (model_size=8870.70KB, activation_size=200.00KB) - exceeds constraints\n",
            "\n",
            "Search complete. Top models:\n",
            "1. width=0.5, input_size=64, acc=72.09%, model_size=2795.70KB\n",
            "2. width=0.5, input_size=128, acc=71.43%, model_size=2795.70KB\n",
            "3. width=0.5, input_size=32, acc=70.87%, model_size=2795.70KB\n",
            "4. width=0.5, input_size=96, acc=70.75%, model_size=2795.70KB\n",
            "5. width=0.35, input_size=128, acc=67.34%, model_size=1613.44KB\n",
            "\n",
            "Best model configuration: width=0.5, input_size=64\n",
            "\n",
            "Training best model configuration with full epochs...\n",
            "Training model on cpu...\n"
          ]
        },
        {
          "output_type": "stream",
          "name": "stderr",
          "text": [
            "Epoch 1/100: 100%|██████████| 782/782 [11:55<00:00,  1.09it/s, loss=1.71, acc=37.3]\n"
          ]
        },
        {
          "output_type": "stream",
          "name": "stdout",
          "text": [
            "Epoch 1/100 - Train Loss: 1.7097, Train Acc: 37.29%, Test Loss: 1.4838, Test Acc: 46.99%\n",
            "New best accuracy: 46.99%. Saving model...\n"
          ]
        },
        {
          "output_type": "stream",
          "name": "stderr",
          "text": [
            "Epoch 2/100: 100%|██████████| 782/782 [11:52<00:00,  1.10it/s, loss=1.27, acc=54.8]\n"
          ]
        },
        {
          "output_type": "stream",
          "name": "stdout",
          "text": [
            "Epoch 2/100 - Train Loss: 1.2682, Train Acc: 54.76%, Test Loss: 1.1279, Test Acc: 60.08%\n",
            "New best accuracy: 60.08%. Saving model...\n"
          ]
        },
        {
          "output_type": "stream",
          "name": "stderr",
          "text": [
            "Epoch 3/100:  10%|█         | 81/782 [01:14<11:00,  1.06it/s, loss=1.13, acc=60]"
          ]
        }
      ],
      "source": [
        "# MCUNet Training with TinyNAS in Google Colab\n",
        "# For ESP32 WROVER Target\n",
        "\n",
        "# First, install dependencies and clone the repository\n",
        "!pip install torch torchvision tqdm pillow matplotlib opencv-python tensorflow tensorboard\n",
        "\n",
        "# Clone the MCUNet repository\n",
        "!git clone https://github.com/mit-han-lab/mcunet.git\n",
        "%cd mcunet\n",
        "\n",
        "# Install MCUNet-specific requirements\n",
        "!pip install -r requirements.txt\n",
        "\n",
        "# Import necessary libraries\n",
        "import os\n",
        "import torch\n",
        "import torch.nn as nn\n",
        "import torch.optim as optim\n",
        "import torchvision\n",
        "import torchvision.transforms as transforms\n",
        "from torch.utils.data import DataLoader, random_split\n",
        "from PIL import Image\n",
        "import numpy as np\n",
        "import matplotlib.pyplot as plt\n",
        "import time\n",
        "import json\n",
        "from tqdm import tqdm\n",
        "\n",
        "# Set random seed for reproducibility\n",
        "torch.manual_seed(42)\n",
        "np.random.seed(42)\n",
        "\n",
        "# Define the ESP32 WROVER constraints\n",
        "ESP32_WROVER_CONSTRAINTS = {\n",
        "    'flash_size_kb': 4 * 1024,  # 4MB Flash\n",
        "    'sram_size_kb': 520,  # 520KB internal SRAM\n",
        "    'psram_size_kb': 8 * 1024,  # 8MB PSRAM\n",
        "    'frequency_mhz': 240,  # 240MHz CPU\n",
        "    'max_model_size_kb': 3 * 1024,  # We'll use up to 3MB for model weights\n",
        "    'max_activation_size_kb': 400,  # Maximum activation memory\n",
        "}\n",
        "\n",
        "print(\"ESP32 WROVER Constraints:\", ESP32_WROVER_CONSTRAINTS)\n",
        "\n",
        "# Create directory for saving models\n",
        "os.makedirs('models', exist_ok=True)\n",
        "\n",
        "# ------------------ DATASET PREPARATION ------------------\n",
        "\n",
        "# Function to download and prepare CIFAR-10 dataset (or your custom dataset)\n",
        "def prepare_dataset(dataset_name='cifar10', batch_size=64, img_size=32):\n",
        "    print(f\"Preparing {dataset_name} dataset...\")\n",
        "\n",
        "    # Define transformations\n",
        "    if img_size != 32:\n",
        "        transform_train = transforms.Compose([\n",
        "            transforms.Resize((img_size, img_size)),\n",
        "            transforms.RandomCrop(img_size, padding=4),\n",
        "            transforms.RandomHorizontalFlip(),\n",
        "            transforms.ToTensor(),\n",
        "            transforms.Normalize((0.4914, 0.4822, 0.4465), (0.2023, 0.1994, 0.2010)),\n",
        "        ])\n",
        "\n",
        "        transform_test = transforms.Compose([\n",
        "            transforms.Resize((img_size, img_size)),\n",
        "            transforms.ToTensor(),\n",
        "            transforms.Normalize((0.4914, 0.4822, 0.4465), (0.2023, 0.1994, 0.2010)),\n",
        "        ])\n",
        "    else:\n",
        "        transform_train = transforms.Compose([\n",
        "            transforms.RandomCrop(32, padding=4),\n",
        "            transforms.RandomHorizontalFlip(),\n",
        "            transforms.ToTensor(),\n",
        "            transforms.Normalize((0.4914, 0.4822, 0.4465), (0.2023, 0.1994, 0.2010)),\n",
        "        ])\n",
        "\n",
        "        transform_test = transforms.Compose([\n",
        "            transforms.ToTensor(),\n",
        "            transforms.Normalize((0.4914, 0.4822, 0.4465), (0.2023, 0.1994, 0.2010)),\n",
        "        ])\n",
        "\n",
        "    # Load dataset\n",
        "    if dataset_name.lower() == 'cifar10':\n",
        "        trainset = torchvision.datasets.CIFAR10(\n",
        "            root='./data', train=True, download=True, transform=transform_train)\n",
        "        testset = torchvision.datasets.CIFAR10(\n",
        "            root='./data', train=False, download=True, transform=transform_test)\n",
        "        num_classes = 10\n",
        "\n",
        "    elif dataset_name.lower() == 'cifar100':\n",
        "        trainset = torchvision.datasets.CIFAR100(\n",
        "            root='./data', train=True, download=True, transform=transform_train)\n",
        "        testset = torchvision.datasets.CIFAR100(\n",
        "            root='./data', train=False, download=True, transform=transform_test)\n",
        "        num_classes = 100\n",
        "\n",
        "    else:\n",
        "        raise ValueError(f\"Dataset {dataset_name} not supported\")\n",
        "\n",
        "    # Create data loaders\n",
        "    trainloader = DataLoader(\n",
        "        trainset, batch_size=batch_size, shuffle=True, num_workers=2)\n",
        "    testloader = DataLoader(\n",
        "        testset, batch_size=batch_size, shuffle=False, num_workers=2)\n",
        "\n",
        "    print(f\"Dataset prepared with {len(trainset)} training samples and {len(testset)} test samples\")\n",
        "    print(f\"Number of classes: {num_classes}\")\n",
        "    return trainloader, testloader, num_classes\n",
        "\n",
        "# ------------------ TINYNAS SEARCH SPACE ------------------\n",
        "\n",
        "# Define a base block for the TinyNAS search space\n",
        "class MBConvBlock(nn.Module):\n",
        "    def __init__(self, in_channels, out_channels, kernel_size, stride, expand_ratio, se_ratio=None):\n",
        "        super(MBConvBlock, self).__init__()\n",
        "        self.in_channels = in_channels\n",
        "        self.out_channels = out_channels\n",
        "        self.stride = stride\n",
        "        self.expand_ratio = expand_ratio\n",
        "        self.se_ratio = se_ratio\n",
        "\n",
        "        # Expansion phase\n",
        "        expanded_channels = in_channels * expand_ratio\n",
        "        if expand_ratio != 1:\n",
        "            self.expand_conv = nn.Sequential(\n",
        "                nn.Conv2d(in_channels, expanded_channels, kernel_size=1, bias=False),\n",
        "                nn.BatchNorm2d(expanded_channels),\n",
        "                nn.ReLU6(inplace=True)\n",
        "            )\n",
        "\n",
        "        # Depthwise convolution\n",
        "        self.depthwise_conv = nn.Sequential(\n",
        "            nn.Conv2d(expanded_channels, expanded_channels, kernel_size=kernel_size,\n",
        "                      stride=stride, padding=kernel_size//2, groups=expanded_channels, bias=False),\n",
        "            nn.BatchNorm2d(expanded_channels),\n",
        "            nn.ReLU6(inplace=True)\n",
        "        )\n",
        "\n",
        "        # Squeeze and Excitation layer\n",
        "        if se_ratio is not None:\n",
        "            se_channels = max(1, int(in_channels * se_ratio))\n",
        "            self.se = nn.Sequential(\n",
        "                nn.AdaptiveAvgPool2d(1),\n",
        "                nn.Conv2d(expanded_channels, se_channels, kernel_size=1),\n",
        "                nn.ReLU6(inplace=True),\n",
        "                nn.Conv2d(se_channels, expanded_channels, kernel_size=1),\n",
        "                nn.Sigmoid()\n",
        "            )\n",
        "        else:\n",
        "            self.se = None\n",
        "\n",
        "        # Pointwise convolution\n",
        "        self.project_conv = nn.Sequential(\n",
        "            nn.Conv2d(expanded_channels, out_channels, kernel_size=1, bias=False),\n",
        "            nn.BatchNorm2d(out_channels)\n",
        "        )\n",
        "\n",
        "        # Skip connection if input and output have the same shape\n",
        "        self.use_skip_connection = (stride == 1 and in_channels == out_channels)\n",
        "\n",
        "    def forward(self, x):\n",
        "        identity = x\n",
        "\n",
        "        # Expansion\n",
        "        if self.expand_ratio != 1:\n",
        "            x = self.expand_conv(x)\n",
        "\n",
        "        # Depthwise\n",
        "        x = self.depthwise_conv(x)\n",
        "\n",
        "        # Squeeze and Excitation\n",
        "        if self.se is not None:\n",
        "            x = x * self.se(x)\n",
        "\n",
        "        # Pointwise\n",
        "        x = self.project_conv(x)\n",
        "\n",
        "        # Skip connection\n",
        "        if self.use_skip_connection:\n",
        "            x = x + identity\n",
        "\n",
        "        return x\n",
        "\n",
        "# TinyNAS Model\n",
        "class TinyNASModel(nn.Module):\n",
        "    def __init__(self, input_size=32, num_classes=10, width_mult=1.0):\n",
        "        super(TinyNASModel, self).__init__()\n",
        "\n",
        "        # Starting channels - can be adjusted during search\n",
        "        input_channel = int(32 * width_mult)\n",
        "\n",
        "        # First layer\n",
        "        self.features = [\n",
        "            nn.Sequential(\n",
        "                nn.Conv2d(3, input_channel, kernel_size=3, stride=2, padding=1, bias=False),\n",
        "                nn.BatchNorm2d(input_channel),\n",
        "                nn.ReLU6(inplace=True)\n",
        "            )\n",
        "        ]\n",
        "\n",
        "        # Building MBConv blocks\n",
        "        # Settings for the bottleneck blocks:\n",
        "        # [expand_ratio, channels, num_blocks, stride, kernel_size]\n",
        "        mb_config = [\n",
        "            [1, 16, 1, 1, 3],\n",
        "            [6, 24, 2, 2, 3],\n",
        "            [6, 32, 3, 2, 3],\n",
        "            [6, 64, 4, 2, 3],\n",
        "            [6, 96, 3, 1, 3],\n",
        "            [6, 160, 3, 2, 3],\n",
        "            [6, 320, 1, 1, 3],\n",
        "        ]\n",
        "\n",
        "        # Building blocks based on config\n",
        "        for t, c, n, s, k in mb_config:\n",
        "            output_channel = int(c * width_mult)\n",
        "            for i in range(n):\n",
        "                stride = s if i == 0 else 1\n",
        "                self.features.append(\n",
        "                    MBConvBlock(\n",
        "                        in_channels=input_channel,\n",
        "                        out_channels=output_channel,\n",
        "                        kernel_size=k,\n",
        "                        stride=stride,\n",
        "                        expand_ratio=t\n",
        "                    )\n",
        "                )\n",
        "                input_channel = output_channel\n",
        "\n",
        "        # Last layer before classifier\n",
        "        last_channel = int(1280 * width_mult) if width_mult > 1.0 else 1280\n",
        "        self.features.append(\n",
        "            nn.Sequential(\n",
        "                nn.Conv2d(input_channel, last_channel, kernel_size=1, bias=False),\n",
        "                nn.BatchNorm2d(last_channel),\n",
        "                nn.ReLU6(inplace=True)\n",
        "            )\n",
        "        )\n",
        "\n",
        "        self.features = nn.Sequential(*self.features)\n",
        "\n",
        "        # Classifier\n",
        "        self.classifier = nn.Sequential(\n",
        "            nn.AdaptiveAvgPool2d(1),\n",
        "            nn.Flatten(),\n",
        "            nn.Dropout(0.2),\n",
        "            nn.Linear(last_channel, num_classes)\n",
        "        )\n",
        "\n",
        "        # Calculate model size\n",
        "        self._calculate_model_size()\n",
        "\n",
        "    def forward(self, x):\n",
        "        x = self.features(x)\n",
        "        x = self.classifier(x)\n",
        "        return x\n",
        "\n",
        "    def _calculate_model_size(self):\n",
        "        # Estimate model size in KB\n",
        "        param_size = 0\n",
        "        for param in self.parameters():\n",
        "            param_size += param.nelement() * param.element_size()\n",
        "\n",
        "        buffer_size = 0\n",
        "        for buffer in self.buffers():\n",
        "            buffer_size += buffer.nelement() * buffer.element_size()\n",
        "\n",
        "        self.model_size_kb = (param_size + buffer_size) / 1024\n",
        "\n",
        "        # Calculate activation memory\n",
        "        # This is an approximation - would need forward hooks for exact calculation\n",
        "        self.activation_size_kb = 200  # Placeholder - would need to be measured during forward pass\n",
        "\n",
        "        return self.model_size_kb, self.activation_size_kb\n",
        "\n",
        "# Function to train the model\n",
        "def train_model(model, trainloader, testloader, num_epochs=100, lr=0.01, device='cuda'):\n",
        "    print(f\"Training model on {device}...\")\n",
        "    model = model.to(device)\n",
        "\n",
        "    # Loss and optimizer\n",
        "    criterion = nn.CrossEntropyLoss()\n",
        "    optimizer = optim.SGD(model.parameters(), lr=lr, momentum=0.9, weight_decay=5e-4)\n",
        "    scheduler = optim.lr_scheduler.CosineAnnealingLR(optimizer, T_max=num_epochs)\n",
        "\n",
        "    # Training loop\n",
        "    best_acc = 0.0\n",
        "    training_stats = {'train_loss': [], 'train_acc': [], 'test_loss': [], 'test_acc': []}\n",
        "\n",
        "    for epoch in range(num_epochs):\n",
        "        # Training\n",
        "        model.train()\n",
        "        train_loss = 0.0\n",
        "        correct = 0\n",
        "        total = 0\n",
        "\n",
        "        progress_bar = tqdm(trainloader, desc=f'Epoch {epoch+1}/{num_epochs}')\n",
        "        for inputs, targets in progress_bar:\n",
        "            inputs, targets = inputs.to(device), targets.to(device)\n",
        "\n",
        "            # Zero the parameter gradients\n",
        "            optimizer.zero_grad()\n",
        "\n",
        "            # Forward + backward + optimize\n",
        "            outputs = model(inputs)\n",
        "            loss = criterion(outputs, targets)\n",
        "            loss.backward()\n",
        "            optimizer.step()\n",
        "\n",
        "            # Statistics\n",
        "            train_loss += loss.item()\n",
        "            _, predicted = outputs.max(1)\n",
        "            total += targets.size(0)\n",
        "            correct += predicted.eq(targets).sum().item()\n",
        "\n",
        "            progress_bar.set_postfix({\n",
        "                'loss': train_loss/(progress_bar.n+1),\n",
        "                'acc': 100.*correct/total\n",
        "            })\n",
        "\n",
        "        train_acc = 100. * correct / total\n",
        "        training_stats['train_loss'].append(train_loss/len(trainloader))\n",
        "        training_stats['train_acc'].append(train_acc)\n",
        "\n",
        "        # Evaluation\n",
        "        model.eval()\n",
        "        test_loss = 0.0\n",
        "        correct = 0\n",
        "        total = 0\n",
        "\n",
        "        with torch.no_grad():\n",
        "            for inputs, targets in testloader:\n",
        "                inputs, targets = inputs.to(device), targets.to(device)\n",
        "                outputs = model(inputs)\n",
        "                loss = criterion(outputs, targets)\n",
        "\n",
        "                test_loss += loss.item()\n",
        "                _, predicted = outputs.max(1)\n",
        "                total += targets.size(0)\n",
        "                correct += predicted.eq(targets).sum().item()\n",
        "\n",
        "        test_acc = 100. * correct / total\n",
        "        training_stats['test_loss'].append(test_loss/len(testloader))\n",
        "        training_stats['test_acc'].append(test_acc)\n",
        "\n",
        "        print(f'Epoch {epoch+1}/{num_epochs} - Train Loss: {train_loss/len(trainloader):.4f}, Train Acc: {train_acc:.2f}%, '\n",
        "              f'Test Loss: {test_loss/len(testloader):.4f}, Test Acc: {test_acc:.2f}%')\n",
        "\n",
        "        # Save checkpoint if better\n",
        "        if test_acc > best_acc:\n",
        "            best_acc = test_acc\n",
        "            print(f'New best accuracy: {best_acc:.2f}%. Saving model...')\n",
        "            torch.save(model.state_dict(), 'models/best_model.pth')\n",
        "\n",
        "        # Update learning rate\n",
        "        scheduler.step()\n",
        "\n",
        "    print(f'Training complete. Best accuracy: {best_acc:.2f}%')\n",
        "    return model, training_stats, best_acc\n",
        "\n",
        "# ------------------ TINYNAS SEARCH ------------------\n",
        "\n",
        "def tinynas_search(trainloader, testloader, num_classes, constraints, num_candidates=5, epochs_per_candidate=10):\n",
        "    \"\"\"\n",
        "    Simplified TinyNAS search algorithm\n",
        "    \"\"\"\n",
        "    print(\"Starting TinyNAS search...\")\n",
        "    device = 'cuda' if torch.cuda.is_available() else 'cpu'\n",
        "    print(f\"Using device: {device}\")\n",
        "\n",
        "    # Define the search space for width multipliers and input sizes\n",
        "    width_mults = [0.35, 0.5, 0.75, 1.0]\n",
        "    input_sizes = [32, 64, 96, 128]\n",
        "\n",
        "    # Store results\n",
        "    search_results = []\n",
        "\n",
        "    for width_mult in width_mults:\n",
        "        for input_size in input_sizes:\n",
        "            # Create model with current config\n",
        "            model = TinyNASModel(input_size=input_size, num_classes=num_classes, width_mult=width_mult)\n",
        "\n",
        "            # Check if model meets size constraints\n",
        "            model_size_kb, activation_size_kb = model._calculate_model_size()\n",
        "\n",
        "            if model_size_kb > constraints['max_model_size_kb'] or activation_size_kb > constraints['max_activation_size_kb']:\n",
        "                print(f\"Skipping model with width={width_mult}, input_size={input_size} \"\n",
        "                      f\"(model_size={model_size_kb:.2f}KB, activation_size={activation_size_kb:.2f}KB) - exceeds constraints\")\n",
        "                continue\n",
        "\n",
        "            print(f\"\\nEvaluating model with width={width_mult}, input_size={input_size}\")\n",
        "            print(f\"Estimated model size: {model_size_kb:.2f}KB, activation size: {activation_size_kb:.2f}KB\")\n",
        "\n",
        "            # Train model for fewer epochs during search\n",
        "            _, _, accuracy = train_model(\n",
        "                model, trainloader, testloader,\n",
        "                num_epochs=epochs_per_candidate,\n",
        "                device=device\n",
        "            )\n",
        "\n",
        "            # Record results\n",
        "            search_results.append({\n",
        "                'width_mult': width_mult,\n",
        "                'input_size': input_size,\n",
        "                'model_size_kb': model_size_kb,\n",
        "                'activation_size_kb': activation_size_kb,\n",
        "                'accuracy': accuracy\n",
        "            })\n",
        "\n",
        "            # Save results after each model\n",
        "            with open('models/search_results.json', 'w') as f:\n",
        "                json.dump(search_results, f, indent=4)\n",
        "\n",
        "    # Find the best model configurations\n",
        "    search_results.sort(key=lambda x: x['accuracy'], reverse=True)\n",
        "    print(\"\\nSearch complete. Top models:\")\n",
        "    for i, result in enumerate(search_results[:num_candidates]):\n",
        "        print(f\"{i+1}. width={result['width_mult']}, input_size={result['input_size']}, \"\n",
        "              f\"acc={result['accuracy']:.2f}%, model_size={result['model_size_kb']:.2f}KB\")\n",
        "\n",
        "    # Return the best configuration\n",
        "    best_config = search_results[0]\n",
        "    print(f\"\\nBest model configuration: width={best_config['width_mult']}, input_size={best_config['input_size']}\")\n",
        "    return best_config\n",
        "\n",
        "# ------------------ MODEL CONVERSION ------------------\n",
        "\n",
        "def convert_to_tflite(model, input_size):\n",
        "    \"\"\"\n",
        "    Convert PyTorch model to TFLite format\n",
        "    \"\"\"\n",
        "    print(\"Converting PyTorch model to TFLite format...\")\n",
        "\n",
        "    # Create example input\n",
        "    dummy_input = torch.randn(1, 3, input_size, input_size)\n",
        "\n",
        "    # Export to ONNX\n",
        "    onnx_path = 'models/model.onnx'\n",
        "    torch.onnx.export(\n",
        "        model,\n",
        "        dummy_input,\n",
        "        onnx_path,\n",
        "        export_params=True,\n",
        "        opset_version=11,\n",
        "        do_constant_folding=True,\n",
        "        input_names=['input'],\n",
        "        output_names=['output'],\n",
        "        dynamic_axes={'input': {0: 'batch_size'},\n",
        "                      'output': {0: 'batch_size'}}\n",
        "    )\n",
        "    print(f\"ONNX model saved to {onnx_path}\")\n",
        "\n",
        "    # Convert ONNX to TFLite\n",
        "    import onnx\n",
        "    from onnx_tf.backend import prepare\n",
        "    import tensorflow as tf\n",
        "\n",
        "    # Load ONNX model\n",
        "    onnx_model = onnx.load(onnx_path)\n",
        "\n",
        "    # Convert ONNX to TensorFlow\n",
        "    tf_rep = prepare(onnx_model)\n",
        "\n",
        "    # Create a TensorFlow SavedModel\n",
        "    tf_model_path = 'models/tf_model'\n",
        "    tf_rep.export_graph(tf_model_path)\n",
        "\n",
        "    # Convert SavedModel to TFLite\n",
        "    converter = tf.lite.TFLiteConverter.from_saved_model(tf_model_path)\n",
        "\n",
        "    # Enable optimizations\n",
        "    converter.optimizations = [tf.lite.Optimize.DEFAULT]\n",
        "\n",
        "    # Apply quantization for smaller model size\n",
        "    converter.target_spec.supported_ops = [tf.lite.OpsSet.TFLITE_BUILTINS_INT8]\n",
        "    converter.inference_input_type = tf.int8\n",
        "    converter.inference_output_type = tf.int8\n",
        "\n",
        "    # Generate representative dataset for quantization\n",
        "    def representative_dataset():\n",
        "        for data, _ in testloader:\n",
        "            yield [data[0:1].numpy()]\n",
        "\n",
        "    converter.representative_dataset = representative_dataset\n",
        "\n",
        "    # Convert the model\n",
        "    tflite_model = converter.convert()\n",
        "\n",
        "    # Save the TFLite model\n",
        "    tflite_path = 'models/model.tflite'\n",
        "    with open(tflite_path, 'wb') as f:\n",
        "        f.write(tflite_model)\n",
        "\n",
        "    print(f\"TFLite model saved to {tflite_path}\")\n",
        "    return tflite_path\n",
        "\n",
        "# ------------------ C CODE GENERATION ------------------\n",
        "\n",
        "def generate_c_code(tflite_path, output_dir='models/esp32'):\n",
        "    \"\"\"\n",
        "    Generate C code from TFLite model for ESP32\n",
        "    \"\"\"\n",
        "    print(\"Generating C code for ESP32...\")\n",
        "\n",
        "    # Create output directory\n",
        "    os.makedirs(output_dir, exist_ok=True)\n",
        "\n",
        "    # Read TFLite model\n",
        "    with open(tflite_path, 'rb') as f:\n",
        "        tflite_model = f.read()\n",
        "\n",
        "    # Convert model to C array\n",
        "    c_array = ','.join([f'0x{byte:02x}' for byte in tflite_model])\n",
        "\n",
        "    # Generate header file\n",
        "    header_content = f\"\"\"#ifndef MODEL_DATA_H\n",
        "#define MODEL_DATA_H\n",
        "\n",
        "#include <stdint.h>\n",
        "#include <stdbool.h>\n",
        "#include <stddef.h>\n",
        "\n",
        "// Model parameters\n",
        "#define MODEL_SIZE {len(tflite_model)}\n",
        "#define MODEL_INPUT_SIZE {input_size}\n",
        "#define MODEL_NUM_CLASSES {num_classes}\n",
        "\n",
        "// Function declarations\n",
        "void init_model(void);\n",
        "bool run_inference(const uint8_t* input, uint8_t* output);\n",
        "void deinit_model(void);\n",
        "\n",
        "#endif // MODEL_DATA_H\n",
        "\"\"\"\n",
        "\n",
        "    # Generate C file\n",
        "    c_content = f\"\"\"#include \"model_data.h\"\n",
        "#include \"tensorflow/lite/micro/all_ops_resolver.h\"\n",
        "#include \"tensorflow/lite/micro/micro_error_reporter.h\"\n",
        "#include \"tensorflow/lite/micro/micro_interpreter.h\"\n",
        "#include \"tensorflow/lite/schema/schema_generated.h\"\n",
        "#include \"tensorflow/lite/version.h\"\n",
        "#include \"esp_log.h\"\n",
        "#include \"esp_heap_caps.h\"\n",
        "\n",
        "// TFLite model data\n",
        "const unsigned char model_data[] = {{{c_array}}};\n",
        "\n",
        "// TFLite globals\n",
        "namespace {{\n",
        "tflite::ErrorReporter* error_reporter = nullptr;\n",
        "const tflite::Model* model = nullptr;\n",
        "tflite::MicroInterpreter* interpreter = nullptr;\n",
        "TfLiteTensor* input = nullptr;\n",
        "TfLiteTensor* output = nullptr;\n",
        "\n",
        "// Create an area of memory to use for input, output, and intermediate arrays\n",
        "constexpr int kTensorArenaSize = {int(ESP32_WROVER_CONSTRAINTS['max_activation_size_kb'] * 1024)};\n",
        "static uint8_t* tensor_arena;\n",
        "}}\n",
        "\n",
        "void init_model(void) {{\n",
        "    // Set up logging\n",
        "    static tflite::MicroErrorReporter micro_error_reporter;\n",
        "    error_reporter = &micro_error_reporter;\n",
        "\n",
        "    // Map the model into a usable data structure\n",
        "    model = tflite::GetModel(model_data);\n",
        "\n",
        "    // Check version\n",
        "    if (model->version() != TFLITE_SCHEMA_VERSION) {{\n",
        "        TF_LITE_REPORT_ERROR(error_reporter,\n",
        "                             \"Model schema version %d not equal to supported version %d.\",\n",
        "                             model->version(), TFLITE_SCHEMA_VERSION);\n",
        "        return;\n",
        "    }}\n",
        "\n",
        "    // Allocate memory for tensor arena\n",
        "    tensor_arena = (uint8_t*)heap_caps_malloc(kTensorArenaSize, MALLOC_CAP_8BIT | MALLOC_CAP_INTERNAL);\n",
        "    if (tensor_arena == nullptr) {{\n",
        "        TF_LITE_REPORT_ERROR(error_reporter, \"Failed to allocate tensor arena\");\n",
        "        return;\n",
        "    }}\n",
        "\n",
        "    // Pull in all the operation implementations needed\n",
        "    static tflite::AllOpsResolver resolver;\n",
        "\n",
        "    // Build an interpreter to run the model\n",
        "    static tflite::MicroInterpreter static_interpreter(model, resolver, tensor_arena,\n",
        "                                                      kTensorArenaSize, error_reporter);\n",
        "    interpreter = &static_interpreter;\n",
        "\n",
        "    // Allocate memory from the tensor_arena for the model's tensors\n",
        "    TfLiteStatus allocate_status = interpreter->AllocateTensors();\n",
        "    if (allocate_status != kTfLiteOk) {{\n",
        "        TF_LITE_REPORT_ERROR(error_reporter, \"AllocateTensors() failed\");\n",
        "        return;\n",
        "    }}\n",
        "\n",
        "    // Get pointers to the model's input and output tensors\n",
        "    input = interpreter->input(0);\n",
        "    output = interpreter->output(0);\n",
        "}}\n",
        "\n",
        "bool run_inference(const uint8_t* input_data, uint8_t* output_data) {{\n",
        "    // Copy input data\n",
        "    for (int i = 0; i < MODEL_INPUT_SIZE * MODEL_INPUT_SIZE * 3; ++i) {{\n",
        "        input->data.int8[i] = input_data[i] - 128;  // Convert to int8 format\n",
        "    }}\n",
        "\n",
        "    // Run inference\n",
        "    TfLiteStatus invoke_status = interpreter->Invoke();\n",
        "    if (invoke_status != kTfLiteOk) {{\n",
        "        TF_LITE_REPORT_ERROR(error_reporter, \"Invoke failed\");\n",
        "        return false;\n",
        "    }}\n",
        "\n",
        "    // Copy output\n",
        "    for (int i = 0; i < MODEL_NUM_CLASSES; ++i) {{\n",
        "        output_data[i] = output->data.int8[i] + 128;  // Convert back to uint8\n",
        "    }}\n",
        "\n",
        "    return true;\n",
        "}}\n",
        "\n",
        "void deinit_model(void) {{\n",
        "    // Free memory\n",
        "    heap_caps_free(tensor_arena);\n",
        "}}\n",
        "\"\"\"\n",
        "\n",
        "    # Write files\n",
        "    with open(f'{output_dir}/model_data.h', 'w') as f:\n",
        "        f.write(header_content)\n",
        "\n",
        "    with open(f'{output_dir}/model_data.c', 'w') as f:\n",
        "        f.write(c_content)\n",
        "\n",
        "    print(f\"C code generated in {output_dir}\")\n",
        "    return output_dir\n",
        "\n",
        "# ------------------ MAIN EXECUTION ------------------\n",
        "\n",
        "# Set parameters\n",
        "dataset_name = 'cifar10'\n",
        "batch_size = 64\n",
        "img_size = 96  # Adjust based on your needs\n",
        "num_epochs = 100\n",
        "\n",
        "# Check for GPU\n",
        "device = 'cuda' if torch.cuda.is_available() else 'cpu'\n",
        "print(f\"Using device: {device}\")\n",
        "\n",
        "# Prepare dataset\n",
        "trainloader, testloader, num_classes = prepare_dataset(\n",
        "    dataset_name=dataset_name,\n",
        "    batch_size=batch_size,\n",
        "    img_size=img_size\n",
        ")\n",
        "\n",
        "# Perform TinyNAS search to find the best architecture\n",
        "best_config = tinynas_search(\n",
        "    trainloader,\n",
        "    testloader,\n",
        "    num_classes,\n",
        "    ESP32_WROVER_CONSTRAINTS,\n",
        "    num_candidates=5,\n",
        "    epochs_per_candidate=5  # Use a small number for quick search\n",
        ")\n",
        "\n",
        "# Train the best model with full epochs\n",
        "print(\"\\nTraining best model configuration with full epochs...\")\n",
        "best_model = TinyNASModel(\n",
        "    input_size=best_config['input_size'],\n",
        "    num_classes=num_classes,\n",
        "    width_mult=best_config['width_mult']\n",
        ")\n",
        "\n",
        "# Save input size for later use in code generation\n",
        "input_size = best_config['input_size']\n",
        "\n",
        "# Full training\n",
        "final_model, training_stats, final_accuracy = train_model(\n",
        "    best_model,\n",
        "    trainloader,\n",
        "    testloader,\n",
        "    num_epochs=num_epochs,\n",
        "    device=device\n",
        ")\n",
        "\n",
        "print(f\"Final model accuracy: {final_accuracy:.2f}%\")\n",
        "\n",
        "# Plot training results\n",
        "plt.figure(figsize=(12, 5))\n",
        "plt.subplot(1, 2, 1)\n",
        "plt.plot(training_stats['train_loss'], label='Train Loss')\n",
        "plt.plot(training_stats['test_loss'], label='Test Loss')\n",
        "plt.title('Loss Curves')\n",
        "plt.xlabel('Epoch')\n",
        "plt.ylabel('Loss')\n",
        "plt.legend()\n",
        "\n",
        "plt.subplot(1, 2, 2)\n",
        "plt.plot(training_stats['train_acc'], label='Train Accuracy')\n",
        "plt.plot(training_stats['test_acc'], label='Test Accuracy')\n",
        "plt.title('Accuracy Curves')\n",
        "plt.xlabel('Epoch')\n",
        "plt.ylabel('Accuracy (%)')\n",
        "plt.legend()\n",
        "plt.tight_layout()\n",
        "plt.savefig('models/training_curves.png')\n",
        "plt.show()\n",
        "\n",
        "# Convert model to TFLite format\n",
        "tflite_path = convert_to_tflite(final_model, input_size)\n",
        "\n",
        "# Generate C code for ESP32\n",
        "esp32_code_dir = generate_c_code(tflite_path)\n",
        "\n",
        "# Create a zip file of the ESP32 code\n",
        "!zip -r models/esp32_model.zip {esp32_code_dir}\n",
        "\n",
        "# Download the generated files\n",
        "from google.colab import files\n",
        "files.download('models/esp32_model.zip')\n",
        "files.download('models/model.tflite')\n",
        "files.download('models/best_model.pth')\n",
        "files.download('models/training_curves.png')\n",
        "\n",
        "print(\"Complete! Your model has been trained, converted, and is ready for deployment on ESP32 WROVER.\")\n",
        "print(\"Please integrate the generated model_data.c and model_data.h into your ESP-IDF project.\")"
      ]
    }
  ]
}